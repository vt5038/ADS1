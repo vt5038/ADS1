{
  "nbformat": 4,
  "nbformat_minor": 0,
  "metadata": {
    "colab": {
      "provenance": []
    },
    "kernelspec": {
      "name": "python3",
      "display_name": "Python 3"
    },
    "language_info": {
      "name": "python"
    }
  },
  "cells": [
    {
      "cell_type": "code",
      "execution_count": 1,
      "metadata": {
        "id": "SfR6Yfm0tWlz"
      },
      "outputs": [],
      "source": [
        "import pandas as pd\n",
        "import numpy as np\n"
      ]
    },
    {
      "cell_type": "code",
      "source": [
        "df = pd.read_csv('/content/drive/MyDrive/Gun_Violence_Record_Orignal.csv')"
      ],
      "metadata": {
        "id": "HkV16sUhtfRT"
      },
      "execution_count": 2,
      "outputs": []
    },
    {
      "cell_type": "code",
      "source": [
        "df.head()"
      ],
      "metadata": {
        "colab": {
          "base_uri": "https://localhost:8080/",
          "height": 325
        },
        "id": "e-Uc6rsEt-Hn",
        "outputId": "7bc823b7-831b-440f-d5cc-e6deb95e8779"
      },
      "execution_count": 3,
      "outputs": [
        {
          "output_type": "execute_result",
          "data": {
            "text/plain": [
              "  Case # Shooter Last Name Shooter First Name Full Date Day of Week  Day  \\\n",
              "0      1           Whitman            Charles    8/1/66      Monday    1   \n",
              "1      2             Smith             Robert  11/12/66    Saturday   12   \n",
              "2      3              Held                Leo  10/23/67      Monday   23   \n",
              "3      4           Pearson               Eric   3/16/68    Saturday   16   \n",
              "4      5         Lambright             Donald    4/5/69    Saturday    5   \n",
              "\n",
              "   Month  Year State  State Code  ...  Planning  Performance  \\\n",
              "0      8  1966    TX          43  ...       1.0          0.0   \n",
              "1     11  1966    AZ           3  ...       1.0          1.0   \n",
              "2     10  1967    PA          38  ...       0.0          0.0   \n",
              "3      3  1968    MI          22  ...       0.0          0.0   \n",
              "4      4  1969    PA          38  ...       0.0          0.0   \n",
              "\n",
              "   Interest in Firearms  Firearm Proficiency  \\\n",
              "0                   1.0                  3.0   \n",
              "1                   0.0                  1.0   \n",
              "2                   1.0                  3.0   \n",
              "3                   0.0                  0.0   \n",
              "4                   0.0                  3.0   \n",
              "\n",
              "   Total Firearms Brought to the Scene  Other Weapons or Gear  \\\n",
              "0                                  7.0                    1.0   \n",
              "1                                  1.0                    1.0   \n",
              "2                                  2.0                    1.0   \n",
              "3                                  1.0                    0.0   \n",
              "4                                  2.0                    0.0   \n",
              "\n",
              "   On-Scene Outcome  Attempt to Flee  Insanity Defense  Criminal Sentence  \n",
              "0               1.0              0.0               2.0                0.0  \n",
              "1               2.0              0.0               1.0                1.0  \n",
              "2               1.0              0.0               2.0                0.0  \n",
              "3               2.0              0.0               0.0                3.0  \n",
              "4               0.0              0.0               2.0                0.0  \n",
              "\n",
              "[5 rows x 133 columns]"
            ],
            "text/html": [
              "\n",
              "  <div id=\"df-b5acb6c7-931a-41aa-8d45-bdda03cbe189\" class=\"colab-df-container\">\n",
              "    <div>\n",
              "<style scoped>\n",
              "    .dataframe tbody tr th:only-of-type {\n",
              "        vertical-align: middle;\n",
              "    }\n",
              "\n",
              "    .dataframe tbody tr th {\n",
              "        vertical-align: top;\n",
              "    }\n",
              "\n",
              "    .dataframe thead th {\n",
              "        text-align: right;\n",
              "    }\n",
              "</style>\n",
              "<table border=\"1\" class=\"dataframe\">\n",
              "  <thead>\n",
              "    <tr style=\"text-align: right;\">\n",
              "      <th></th>\n",
              "      <th>Case #</th>\n",
              "      <th>Shooter Last Name</th>\n",
              "      <th>Shooter First Name</th>\n",
              "      <th>Full Date</th>\n",
              "      <th>Day of Week</th>\n",
              "      <th>Day</th>\n",
              "      <th>Month</th>\n",
              "      <th>Year</th>\n",
              "      <th>State</th>\n",
              "      <th>State Code</th>\n",
              "      <th>...</th>\n",
              "      <th>Planning</th>\n",
              "      <th>Performance</th>\n",
              "      <th>Interest in Firearms</th>\n",
              "      <th>Firearm Proficiency</th>\n",
              "      <th>Total Firearms Brought to the Scene</th>\n",
              "      <th>Other Weapons or Gear</th>\n",
              "      <th>On-Scene Outcome</th>\n",
              "      <th>Attempt to Flee</th>\n",
              "      <th>Insanity Defense</th>\n",
              "      <th>Criminal Sentence</th>\n",
              "    </tr>\n",
              "  </thead>\n",
              "  <tbody>\n",
              "    <tr>\n",
              "      <th>0</th>\n",
              "      <td>1</td>\n",
              "      <td>Whitman</td>\n",
              "      <td>Charles</td>\n",
              "      <td>8/1/66</td>\n",
              "      <td>Monday</td>\n",
              "      <td>1</td>\n",
              "      <td>8</td>\n",
              "      <td>1966</td>\n",
              "      <td>TX</td>\n",
              "      <td>43</td>\n",
              "      <td>...</td>\n",
              "      <td>1.0</td>\n",
              "      <td>0.0</td>\n",
              "      <td>1.0</td>\n",
              "      <td>3.0</td>\n",
              "      <td>7.0</td>\n",
              "      <td>1.0</td>\n",
              "      <td>1.0</td>\n",
              "      <td>0.0</td>\n",
              "      <td>2.0</td>\n",
              "      <td>0.0</td>\n",
              "    </tr>\n",
              "    <tr>\n",
              "      <th>1</th>\n",
              "      <td>2</td>\n",
              "      <td>Smith</td>\n",
              "      <td>Robert</td>\n",
              "      <td>11/12/66</td>\n",
              "      <td>Saturday</td>\n",
              "      <td>12</td>\n",
              "      <td>11</td>\n",
              "      <td>1966</td>\n",
              "      <td>AZ</td>\n",
              "      <td>3</td>\n",
              "      <td>...</td>\n",
              "      <td>1.0</td>\n",
              "      <td>1.0</td>\n",
              "      <td>0.0</td>\n",
              "      <td>1.0</td>\n",
              "      <td>1.0</td>\n",
              "      <td>1.0</td>\n",
              "      <td>2.0</td>\n",
              "      <td>0.0</td>\n",
              "      <td>1.0</td>\n",
              "      <td>1.0</td>\n",
              "    </tr>\n",
              "    <tr>\n",
              "      <th>2</th>\n",
              "      <td>3</td>\n",
              "      <td>Held</td>\n",
              "      <td>Leo</td>\n",
              "      <td>10/23/67</td>\n",
              "      <td>Monday</td>\n",
              "      <td>23</td>\n",
              "      <td>10</td>\n",
              "      <td>1967</td>\n",
              "      <td>PA</td>\n",
              "      <td>38</td>\n",
              "      <td>...</td>\n",
              "      <td>0.0</td>\n",
              "      <td>0.0</td>\n",
              "      <td>1.0</td>\n",
              "      <td>3.0</td>\n",
              "      <td>2.0</td>\n",
              "      <td>1.0</td>\n",
              "      <td>1.0</td>\n",
              "      <td>0.0</td>\n",
              "      <td>2.0</td>\n",
              "      <td>0.0</td>\n",
              "    </tr>\n",
              "    <tr>\n",
              "      <th>3</th>\n",
              "      <td>4</td>\n",
              "      <td>Pearson</td>\n",
              "      <td>Eric</td>\n",
              "      <td>3/16/68</td>\n",
              "      <td>Saturday</td>\n",
              "      <td>16</td>\n",
              "      <td>3</td>\n",
              "      <td>1968</td>\n",
              "      <td>MI</td>\n",
              "      <td>22</td>\n",
              "      <td>...</td>\n",
              "      <td>0.0</td>\n",
              "      <td>0.0</td>\n",
              "      <td>0.0</td>\n",
              "      <td>0.0</td>\n",
              "      <td>1.0</td>\n",
              "      <td>0.0</td>\n",
              "      <td>2.0</td>\n",
              "      <td>0.0</td>\n",
              "      <td>0.0</td>\n",
              "      <td>3.0</td>\n",
              "    </tr>\n",
              "    <tr>\n",
              "      <th>4</th>\n",
              "      <td>5</td>\n",
              "      <td>Lambright</td>\n",
              "      <td>Donald</td>\n",
              "      <td>4/5/69</td>\n",
              "      <td>Saturday</td>\n",
              "      <td>5</td>\n",
              "      <td>4</td>\n",
              "      <td>1969</td>\n",
              "      <td>PA</td>\n",
              "      <td>38</td>\n",
              "      <td>...</td>\n",
              "      <td>0.0</td>\n",
              "      <td>0.0</td>\n",
              "      <td>0.0</td>\n",
              "      <td>3.0</td>\n",
              "      <td>2.0</td>\n",
              "      <td>0.0</td>\n",
              "      <td>0.0</td>\n",
              "      <td>0.0</td>\n",
              "      <td>2.0</td>\n",
              "      <td>0.0</td>\n",
              "    </tr>\n",
              "  </tbody>\n",
              "</table>\n",
              "<p>5 rows × 133 columns</p>\n",
              "</div>\n",
              "    <div class=\"colab-df-buttons\">\n",
              "\n",
              "  <div class=\"colab-df-container\">\n",
              "    <button class=\"colab-df-convert\" onclick=\"convertToInteractive('df-b5acb6c7-931a-41aa-8d45-bdda03cbe189')\"\n",
              "            title=\"Convert this dataframe to an interactive table.\"\n",
              "            style=\"display:none;\">\n",
              "\n",
              "  <svg xmlns=\"http://www.w3.org/2000/svg\" height=\"24px\" viewBox=\"0 -960 960 960\">\n",
              "    <path d=\"M120-120v-720h720v720H120Zm60-500h600v-160H180v160Zm220 220h160v-160H400v160Zm0 220h160v-160H400v160ZM180-400h160v-160H180v160Zm440 0h160v-160H620v160ZM180-180h160v-160H180v160Zm440 0h160v-160H620v160Z\"/>\n",
              "  </svg>\n",
              "    </button>\n",
              "\n",
              "  <style>\n",
              "    .colab-df-container {\n",
              "      display:flex;\n",
              "      gap: 12px;\n",
              "    }\n",
              "\n",
              "    .colab-df-convert {\n",
              "      background-color: #E8F0FE;\n",
              "      border: none;\n",
              "      border-radius: 50%;\n",
              "      cursor: pointer;\n",
              "      display: none;\n",
              "      fill: #1967D2;\n",
              "      height: 32px;\n",
              "      padding: 0 0 0 0;\n",
              "      width: 32px;\n",
              "    }\n",
              "\n",
              "    .colab-df-convert:hover {\n",
              "      background-color: #E2EBFA;\n",
              "      box-shadow: 0px 1px 2px rgba(60, 64, 67, 0.3), 0px 1px 3px 1px rgba(60, 64, 67, 0.15);\n",
              "      fill: #174EA6;\n",
              "    }\n",
              "\n",
              "    .colab-df-buttons div {\n",
              "      margin-bottom: 4px;\n",
              "    }\n",
              "\n",
              "    [theme=dark] .colab-df-convert {\n",
              "      background-color: #3B4455;\n",
              "      fill: #D2E3FC;\n",
              "    }\n",
              "\n",
              "    [theme=dark] .colab-df-convert:hover {\n",
              "      background-color: #434B5C;\n",
              "      box-shadow: 0px 1px 3px 1px rgba(0, 0, 0, 0.15);\n",
              "      filter: drop-shadow(0px 1px 2px rgba(0, 0, 0, 0.3));\n",
              "      fill: #FFFFFF;\n",
              "    }\n",
              "  </style>\n",
              "\n",
              "    <script>\n",
              "      const buttonEl =\n",
              "        document.querySelector('#df-b5acb6c7-931a-41aa-8d45-bdda03cbe189 button.colab-df-convert');\n",
              "      buttonEl.style.display =\n",
              "        google.colab.kernel.accessAllowed ? 'block' : 'none';\n",
              "\n",
              "      async function convertToInteractive(key) {\n",
              "        const element = document.querySelector('#df-b5acb6c7-931a-41aa-8d45-bdda03cbe189');\n",
              "        const dataTable =\n",
              "          await google.colab.kernel.invokeFunction('convertToInteractive',\n",
              "                                                    [key], {});\n",
              "        if (!dataTable) return;\n",
              "\n",
              "        const docLinkHtml = 'Like what you see? Visit the ' +\n",
              "          '<a target=\"_blank\" href=https://colab.research.google.com/notebooks/data_table.ipynb>data table notebook</a>'\n",
              "          + ' to learn more about interactive tables.';\n",
              "        element.innerHTML = '';\n",
              "        dataTable['output_type'] = 'display_data';\n",
              "        await google.colab.output.renderOutput(dataTable, element);\n",
              "        const docLink = document.createElement('div');\n",
              "        docLink.innerHTML = docLinkHtml;\n",
              "        element.appendChild(docLink);\n",
              "      }\n",
              "    </script>\n",
              "  </div>\n",
              "\n",
              "\n",
              "<div id=\"df-2cd122a9-e855-4d85-8fb2-9b9d0dbf4fb3\">\n",
              "  <button class=\"colab-df-quickchart\" onclick=\"quickchart('df-2cd122a9-e855-4d85-8fb2-9b9d0dbf4fb3')\"\n",
              "            title=\"Suggest charts\"\n",
              "            style=\"display:none;\">\n",
              "\n",
              "<svg xmlns=\"http://www.w3.org/2000/svg\" height=\"24px\"viewBox=\"0 0 24 24\"\n",
              "     width=\"24px\">\n",
              "    <g>\n",
              "        <path d=\"M19 3H5c-1.1 0-2 .9-2 2v14c0 1.1.9 2 2 2h14c1.1 0 2-.9 2-2V5c0-1.1-.9-2-2-2zM9 17H7v-7h2v7zm4 0h-2V7h2v10zm4 0h-2v-4h2v4z\"/>\n",
              "    </g>\n",
              "</svg>\n",
              "  </button>\n",
              "\n",
              "<style>\n",
              "  .colab-df-quickchart {\n",
              "      --bg-color: #E8F0FE;\n",
              "      --fill-color: #1967D2;\n",
              "      --hover-bg-color: #E2EBFA;\n",
              "      --hover-fill-color: #174EA6;\n",
              "      --disabled-fill-color: #AAA;\n",
              "      --disabled-bg-color: #DDD;\n",
              "  }\n",
              "\n",
              "  [theme=dark] .colab-df-quickchart {\n",
              "      --bg-color: #3B4455;\n",
              "      --fill-color: #D2E3FC;\n",
              "      --hover-bg-color: #434B5C;\n",
              "      --hover-fill-color: #FFFFFF;\n",
              "      --disabled-bg-color: #3B4455;\n",
              "      --disabled-fill-color: #666;\n",
              "  }\n",
              "\n",
              "  .colab-df-quickchart {\n",
              "    background-color: var(--bg-color);\n",
              "    border: none;\n",
              "    border-radius: 50%;\n",
              "    cursor: pointer;\n",
              "    display: none;\n",
              "    fill: var(--fill-color);\n",
              "    height: 32px;\n",
              "    padding: 0;\n",
              "    width: 32px;\n",
              "  }\n",
              "\n",
              "  .colab-df-quickchart:hover {\n",
              "    background-color: var(--hover-bg-color);\n",
              "    box-shadow: 0 1px 2px rgba(60, 64, 67, 0.3), 0 1px 3px 1px rgba(60, 64, 67, 0.15);\n",
              "    fill: var(--button-hover-fill-color);\n",
              "  }\n",
              "\n",
              "  .colab-df-quickchart-complete:disabled,\n",
              "  .colab-df-quickchart-complete:disabled:hover {\n",
              "    background-color: var(--disabled-bg-color);\n",
              "    fill: var(--disabled-fill-color);\n",
              "    box-shadow: none;\n",
              "  }\n",
              "\n",
              "  .colab-df-spinner {\n",
              "    border: 2px solid var(--fill-color);\n",
              "    border-color: transparent;\n",
              "    border-bottom-color: var(--fill-color);\n",
              "    animation:\n",
              "      spin 1s steps(1) infinite;\n",
              "  }\n",
              "\n",
              "  @keyframes spin {\n",
              "    0% {\n",
              "      border-color: transparent;\n",
              "      border-bottom-color: var(--fill-color);\n",
              "      border-left-color: var(--fill-color);\n",
              "    }\n",
              "    20% {\n",
              "      border-color: transparent;\n",
              "      border-left-color: var(--fill-color);\n",
              "      border-top-color: var(--fill-color);\n",
              "    }\n",
              "    30% {\n",
              "      border-color: transparent;\n",
              "      border-left-color: var(--fill-color);\n",
              "      border-top-color: var(--fill-color);\n",
              "      border-right-color: var(--fill-color);\n",
              "    }\n",
              "    40% {\n",
              "      border-color: transparent;\n",
              "      border-right-color: var(--fill-color);\n",
              "      border-top-color: var(--fill-color);\n",
              "    }\n",
              "    60% {\n",
              "      border-color: transparent;\n",
              "      border-right-color: var(--fill-color);\n",
              "    }\n",
              "    80% {\n",
              "      border-color: transparent;\n",
              "      border-right-color: var(--fill-color);\n",
              "      border-bottom-color: var(--fill-color);\n",
              "    }\n",
              "    90% {\n",
              "      border-color: transparent;\n",
              "      border-bottom-color: var(--fill-color);\n",
              "    }\n",
              "  }\n",
              "</style>\n",
              "\n",
              "  <script>\n",
              "    async function quickchart(key) {\n",
              "      const quickchartButtonEl =\n",
              "        document.querySelector('#' + key + ' button');\n",
              "      quickchartButtonEl.disabled = true;  // To prevent multiple clicks.\n",
              "      quickchartButtonEl.classList.add('colab-df-spinner');\n",
              "      try {\n",
              "        const charts = await google.colab.kernel.invokeFunction(\n",
              "            'suggestCharts', [key], {});\n",
              "      } catch (error) {\n",
              "        console.error('Error during call to suggestCharts:', error);\n",
              "      }\n",
              "      quickchartButtonEl.classList.remove('colab-df-spinner');\n",
              "      quickchartButtonEl.classList.add('colab-df-quickchart-complete');\n",
              "    }\n",
              "    (() => {\n",
              "      let quickchartButtonEl =\n",
              "        document.querySelector('#df-2cd122a9-e855-4d85-8fb2-9b9d0dbf4fb3 button');\n",
              "      quickchartButtonEl.style.display =\n",
              "        google.colab.kernel.accessAllowed ? 'block' : 'none';\n",
              "    })();\n",
              "  </script>\n",
              "</div>\n",
              "    </div>\n",
              "  </div>\n"
            ]
          },
          "metadata": {},
          "execution_count": 3
        }
      ]
    },
    {
      "cell_type": "markdown",
      "source": [
        "**Handling null values**"
      ],
      "metadata": {
        "id": "Yf0CePXR-O5j"
      }
    },
    {
      "cell_type": "code",
      "source": [
        "df['Age'].isnull().sum()"
      ],
      "metadata": {
        "colab": {
          "base_uri": "https://localhost:8080/"
        },
        "id": "U6GM6l57uDtj",
        "outputId": "fa3a5bd6-c21b-4772-caad-bd52d7cd12ff"
      },
      "execution_count": 4,
      "outputs": [
        {
          "output_type": "execute_result",
          "data": {
            "text/plain": [
              "1"
            ]
          },
          "metadata": {},
          "execution_count": 4
        }
      ]
    },
    {
      "cell_type": "code",
      "source": [
        "len(df.columns)"
      ],
      "metadata": {
        "colab": {
          "base_uri": "https://localhost:8080/"
        },
        "id": "zmk1v6WluKtF",
        "outputId": "aff4367d-deb8-4039-8964-dcd02ff18199"
      },
      "execution_count": 5,
      "outputs": [
        {
          "output_type": "execute_result",
          "data": {
            "text/plain": [
              "133"
            ]
          },
          "metadata": {},
          "execution_count": 5
        }
      ]
    },
    {
      "cell_type": "code",
      "source": [
        "df['Age'].fillna(df['Age'].mean(),inplace=True)"
      ],
      "metadata": {
        "id": "POLZ2NAvuP4v"
      },
      "execution_count": 6,
      "outputs": []
    },
    {
      "cell_type": "code",
      "source": [
        "df['Age'].isnull().sum()"
      ],
      "metadata": {
        "colab": {
          "base_uri": "https://localhost:8080/"
        },
        "id": "RtUgipTQuV4d",
        "outputId": "cd3024be-287e-416d-e8f4-041622314c81"
      },
      "execution_count": 7,
      "outputs": [
        {
          "output_type": "execute_result",
          "data": {
            "text/plain": [
              "0"
            ]
          },
          "metadata": {},
          "execution_count": 7
        }
      ]
    },
    {
      "cell_type": "code",
      "source": [
        "df['Age'].describe()"
      ],
      "metadata": {
        "colab": {
          "base_uri": "https://localhost:8080/"
        },
        "id": "VwYOa-B2uXj_",
        "outputId": "55be843f-e37e-4843-e3fd-ea8c4399ab5c"
      },
      "execution_count": 8,
      "outputs": [
        {
          "output_type": "execute_result",
          "data": {
            "text/plain": [
              "count    181.000000\n",
              "mean      33.822222\n",
              "std       12.342859\n",
              "min       11.000000\n",
              "25%       24.000000\n",
              "50%       33.000000\n",
              "75%       43.000000\n",
              "max       70.000000\n",
              "Name: Age, dtype: float64"
            ]
          },
          "metadata": {},
          "execution_count": 8
        }
      ]
    },
    {
      "cell_type": "markdown",
      "source": [
        "**Data Visualization**"
      ],
      "metadata": {
        "id": "iSmBoyh4-X9U"
      }
    },
    {
      "cell_type": "code",
      "source": [
        "import matplotlib.pyplot as plt\n",
        "\n",
        "plt.hist(df['Age'], bins=20, edgecolor='black')\n",
        "plt.xlabel('Age')\n",
        "plt.ylabel('Frequency')\n",
        "plt.title('Histogram of Age Distribution')\n",
        "plt.show()"
      ],
      "metadata": {
        "colab": {
          "base_uri": "https://localhost:8080/",
          "height": 472
        },
        "id": "Q8Cu00SLufxo",
        "outputId": "e77dd9b3-f313-4890-d26a-8c7fe0ab9dbb"
      },
      "execution_count": 9,
      "outputs": [
        {
          "output_type": "display_data",
          "data": {
            "text/plain": [
              "<Figure size 640x480 with 1 Axes>"
            ],
            "image/png": "[encoded data removed]"
          },
          "metadata": {}
        }
      ]
    },
    {
      "cell_type": "code",
      "source": [
        "import seaborn as sns\n",
        "\n",
        "sns.boxplot(x=df['Age'])\n",
        "plt.xlabel('Age')\n",
        "plt.title('Box Plot of Age Distribution')\n",
        "plt.show()"
      ],
      "metadata": {
        "colab": {
          "base_uri": "https://localhost:8080/",
          "height": 472
        },
        "id": "-xUW0qACuziR",
        "outputId": "cb46ecf2-98da-43d9-dbce-3a9f6937782e"
      },
      "execution_count": 10,
      "outputs": [
        {
          "output_type": "display_data",
          "data": {
            "text/plain": [
              "<Figure size 640x480 with 1 Axes>"
            ],
            "image/png": "[encoded data removed]"
          },
          "metadata": {}
        }
      ]
    },
    {
      "cell_type": "code",
      "source": [
        "# Define age groups\n",
        "bins = [0, 18, 30, 50, 100]\n",
        "labels = ['0-18', '19-30', '31-50', '51+']\n",
        "\n",
        "# Create a new column with age groups\n",
        "df['Age Group'] = pd.cut(df['Age'], bins=bins, labels=labels, right=False)\n",
        "\n",
        "# Analyze the count of individuals in each age group\n",
        "age_group_counts = df['Age Group'].value_counts()\n",
        "print(age_group_counts)"
      ],
      "metadata": {
        "colab": {
          "base_uri": "https://localhost:8080/"
        },
        "id": "7kkVsQz2u4cz",
        "outputId": "65bc2fd7-8d2e-4009-90e7-6d9854bf0db3"
      },
      "execution_count": 11,
      "outputs": [
        {
          "output_type": "stream",
          "name": "stdout",
          "text": [
            "31-50    78\n",
            "19-30    74\n",
            "51+      21\n",
            "0-18      8\n",
            "Name: Age Group, dtype: int64\n"
          ]
        }
      ]
    },
    {
      "cell_type": "code",
      "source": [
        "sns.histplot(data=df, x='Age', hue='Gender', multiple='stack', bins=20, edgecolor='black')\n",
        "plt.xlabel('Age')\n",
        "plt.ylabel('Frequency')\n",
        "plt.title('Age Distribution by Gender')\n",
        "plt.show()"
      ],
      "metadata": {
        "colab": {
          "base_uri": "https://localhost:8080/",
          "height": 472
        },
        "id": "9MQVqUYXu-us",
        "outputId": "2d6be844-dd7f-47c6-8077-c453e20cd820"
      },
      "execution_count": 12,
      "outputs": [
        {
          "output_type": "display_data",
          "data": {
            "text/plain": [
              "<Figure size 640x480 with 1 Axes>"
            ],
            "image/png": "[encoded data removed]"
          },
          "metadata": {}
        }
      ]
    },
    {
      "cell_type": "code",
      "source": [
        "import matplotlib.pyplot as plt\n",
        "\n",
        "plt.hist(df['Gender'], bins=20, edgecolor='black')\n",
        "plt.xlabel('Gender')\n",
        "plt.ylabel('Frequency')\n",
        "plt.title('Histogram of Gender Distribution')\n",
        "plt.show()"
      ],
      "metadata": {
        "colab": {
          "base_uri": "https://localhost:8080/",
          "height": 472
        },
        "id": "xIfelMuIvCIl",
        "outputId": "8149ae90-61c0-4937-b2c1-672fdf2a8f6d"
      },
      "execution_count": 13,
      "outputs": [
        {
          "output_type": "display_data",
          "data": {
            "text/plain": [
              "<Figure size 640x480 with 1 Axes>"
            ],
            "image/png": "[encoded data removed]"
          },
          "metadata": {}
        }
      ]
    },
    {
      "cell_type": "code",
      "source": [
        "df['Year'].describe()"
      ],
      "metadata": {
        "colab": {
          "base_uri": "https://localhost:8080/"
        },
        "id": "6p6MSFPcvDaF",
        "outputId": "27950256-673b-41ed-a494-0257138c58b4"
      },
      "execution_count": 14,
      "outputs": [
        {
          "output_type": "execute_result",
          "data": {
            "text/plain": [
              "count     181.000000\n",
              "mean     2001.519337\n",
              "std        14.473190\n",
              "min      1966.000000\n",
              "25%      1992.000000\n",
              "50%      2004.000000\n",
              "75%      2014.000000\n",
              "max      2022.000000\n",
              "Name: Year, dtype: float64"
            ]
          },
          "metadata": {},
          "execution_count": 14
        }
      ]
    },
    {
      "cell_type": "code",
      "source": [
        "df['Year'].isnull().sum()"
      ],
      "metadata": {
        "colab": {
          "base_uri": "https://localhost:8080/"
        },
        "id": "yfPQKQcTvu_v",
        "outputId": "8a0b1819-dcfa-4b4a-8af4-22d595642448"
      },
      "execution_count": 15,
      "outputs": [
        {
          "output_type": "execute_result",
          "data": {
            "text/plain": [
              "0"
            ]
          },
          "metadata": {},
          "execution_count": 15
        }
      ]
    },
    {
      "cell_type": "code",
      "source": [
        "import matplotlib.pyplot as plt\n",
        "\n",
        "plt.hist(df['Year'], bins=20, edgecolor='black')\n",
        "plt.xlabel('Year')\n",
        "plt.ylabel('Frequency')\n",
        "plt.title('Histogram of Year Distribution')\n",
        "plt.show()"
      ],
      "metadata": {
        "colab": {
          "base_uri": "https://localhost:8080/",
          "height": 472
        },
        "id": "Z01sV4BBvzro",
        "outputId": "d9d8901f-b06a-4e21-dfdb-09a9b8b310fc"
      },
      "execution_count": 16,
      "outputs": [
        {
          "output_type": "display_data",
          "data": {
            "text/plain": [
              "<Figure size 640x480 with 1 Axes>"
            ],
            "image/png": "[encoded data removed]"
          },
          "metadata": {}
        }
      ]
    },
    {
      "cell_type": "code",
      "source": [
        "plt.plot(df['Year'], df['Number Killed'])\n",
        "plt.xlabel('Year')\n",
        "plt.ylabel('Num of people killed')\n",
        "plt.title('Line Plot of Value Over Time')\n",
        "plt.show()"
      ],
      "metadata": {
        "colab": {
          "base_uri": "https://localhost:8080/",
          "height": 472
        },
        "id": "oZWJfHwxwLuL",
        "outputId": "15085417-2f28-4d3c-d289-ec12cdb7a990"
      },
      "execution_count": 20,
      "outputs": [
        {
          "output_type": "display_data",
          "data": {
            "text/plain": [
              "<Figure size 640x480 with 1 Axes>"
            ],
            "image/png": "[encoded data removed]"
          },
          "metadata": {}
        }
      ]
    },
    {
      "cell_type": "code",
      "source": [
        "df['Year'].value_counts().sort_index()"
      ],
      "metadata": {
        "colab": {
          "base_uri": "https://localhost:8080/"
        },
        "id": "29xydYg8xOxL",
        "outputId": "d65dda8a-23cc-405f-8d33-14f7f30d3a2c"
      },
      "execution_count": 19,
      "outputs": [
        {
          "output_type": "execute_result",
          "data": {
            "text/plain": [
              "1966    2\n",
              "1967    1\n",
              "1968    1\n",
              "1969    1\n",
              "1970    1\n",
              "1972    2\n",
              "1973    1\n",
              "1975    1\n",
              "1976    1\n",
              "1977    3\n",
              "1978    1\n",
              "1980    3\n",
              "1981    2\n",
              "1982    3\n",
              "1983    3\n",
              "1984    4\n",
              "1985    1\n",
              "1986    1\n",
              "1987    1\n",
              "1988    3\n",
              "1989    2\n",
              "1990    1\n",
              "1991    5\n",
              "1992    4\n",
              "1993    6\n",
              "1994    2\n",
              "1995    3\n",
              "1996    2\n",
              "1997    4\n",
              "1998    4\n",
              "1999    8\n",
              "2000    3\n",
              "2001    4\n",
              "2002    1\n",
              "2003    4\n",
              "2004    3\n",
              "2005    4\n",
              "2006    4\n",
              "2007    4\n",
              "2008    5\n",
              "2009    5\n",
              "2010    5\n",
              "2011    4\n",
              "2012    6\n",
              "2013    5\n",
              "2014    3\n",
              "2015    6\n",
              "2016    5\n",
              "2017    7\n",
              "2018    9\n",
              "2019    8\n",
              "2020    2\n",
              "2021    6\n",
              "2022    1\n",
              "Name: Year, dtype: int64"
            ]
          },
          "metadata": {},
          "execution_count": 19
        }
      ]
    },
    {
      "cell_type": "code",
      "source": [
        "df['State'].isnull().sum()"
      ],
      "metadata": {
        "colab": {
          "base_uri": "https://localhost:8080/"
        },
        "id": "gtcK2J9mxXL0",
        "outputId": "a912077e-f333-489d-c7ac-94941fe189ee"
      },
      "execution_count": 21,
      "outputs": [
        {
          "output_type": "execute_result",
          "data": {
            "text/plain": [
              "0"
            ]
          },
          "metadata": {},
          "execution_count": 21
        }
      ]
    },
    {
      "cell_type": "code",
      "source": [
        "df['State'].unique()"
      ],
      "metadata": {
        "colab": {
          "base_uri": "https://localhost:8080/"
        },
        "id": "FL_puj0Cz5b0",
        "outputId": "85d2f468-26dc-4726-98bb-8f9ddc0974ca"
      },
      "execution_count": 22,
      "outputs": [
        {
          "output_type": "execute_result",
          "data": {
            "text/plain": [
              "array(['TX', 'AZ', 'PA', 'MI', 'NY', 'NC', 'NJ', 'LA', 'CA', 'OR', 'RI',\n",
              "       'KY', 'AK', 'FL', 'AR', 'OK', 'IL', 'IA', 'CO', 'WA', 'MS', 'NH',\n",
              "       'SC', 'CT', 'NV', 'GA', 'HI', 'MA', 'IN', 'AL', 'ID', 'KS', 'WI',\n",
              "       'OH', 'MN', 'UT', 'VA', 'NE', 'MO', 'DC', 'TN', 'MD'], dtype=object)"
            ]
          },
          "metadata": {},
          "execution_count": 22
        }
      ]
    },
    {
      "cell_type": "code",
      "source": [
        "plt.figure(figsize=(10, 6))\n",
        "sns.countplot(x='State', data=df, order=df['State'].value_counts().index)\n",
        "plt.xlabel('State')\n",
        "plt.ylabel('Frequency')\n",
        "plt.title('Frequency Distribution of States')\n",
        "plt.xticks(rotation=45, ha='right')\n",
        "plt.show()"
      ],
      "metadata": {
        "colab": {
          "base_uri": "https://localhost:8080/",
          "height": 576
        },
        "id": "J_VT0I_5z9g8",
        "outputId": "68de762a-7e69-489f-9f39-4134b548e3a1"
      },
      "execution_count": 23,
      "outputs": [
        {
          "output_type": "display_data",
          "data": {
            "text/plain": [
              "<Figure size 1000x600 with 1 Axes>"
            ],
            "image/png": "[encoded data removed]"
          },
          "metadata": {}
        }
      ]
    },
    {
      "cell_type": "code",
      "source": [
        "state_summary = df.groupby('State')['Number Killed'].sum()\n",
        "print(state_summary)"
      ],
      "metadata": {
        "colab": {
          "base_uri": "https://localhost:8080/"
        },
        "id": "5q2RcviZ0RN8",
        "outputId": "050b8f9c-0e4e-489e-ebec-b4737bccde33"
      },
      "execution_count": 28,
      "outputs": [
        {
          "output_type": "stream",
          "name": "stdout",
          "text": [
            "State\n",
            "AK     18\n",
            "AL      4\n",
            "AR     15\n",
            "AZ     15\n",
            "CA    192\n",
            "CO     60\n",
            "CT     39\n",
            "DC     12\n",
            "FL    130\n",
            "GA     24\n",
            "HI      7\n",
            "IA      5\n",
            "ID      4\n",
            "IL     24\n",
            "IN     12\n",
            "KS      5\n",
            "KY     28\n",
            "LA     16\n",
            "MA      7\n",
            "MD      5\n",
            "MI     25\n",
            "MN     15\n",
            "MO     10\n",
            "MS     15\n",
            "NC     29\n",
            "NE      8\n",
            "NH      4\n",
            "NJ     24\n",
            "NV     66\n",
            "NY     59\n",
            "OH     20\n",
            "OK     14\n",
            "OR     23\n",
            "PA     48\n",
            "RI      4\n",
            "SC     13\n",
            "TN      9\n",
            "TX    180\n",
            "UT      5\n",
            "VA     44\n",
            "WA     38\n",
            "WI     28\n",
            "Name: Number Killed, dtype: int64\n"
          ]
        }
      ]
    },
    {
      "cell_type": "code",
      "source": [],
      "metadata": {
        "id": "T2y9NGRE1ZCD"
      },
      "execution_count": null,
      "outputs": []
    }
  ]
}